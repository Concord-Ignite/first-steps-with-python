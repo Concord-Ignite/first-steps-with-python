{
 "cells": [
  {
   "cell_type": "markdown",
   "metadata": {},
   "source": [
    "# First Steps with Python and Jupyter \n",
    "\n",
    "![](https://i.imgur.com/gvSnw4A.png)\n",
    "\n"
   ]
  },
  {
   "cell_type": "markdown",
   "metadata": {},
   "source": [
    "This tutorial covers the following topics:\n",
    "\n",
    "* Performing arithmetic operations using Python\n",
    "* Solving multi-step problems using variables\n",
    "* Evaluating conditions using Python\n",
    "* Combining conditions with logical operators\n",
    "* Adding text styles using Markdown"
   ]
  },
  {
   "cell_type": "markdown",
   "metadata": {},
   "source": [
    "### How to run the code\n",
    "\n",
    "This tutorial is an executable [Jupyter notebook](https://jupyter.org) hosted on [Jovian](https://www.jovian.ai) (don't worry if these terms seem unfamiliar; we'll learn more about them soon). You can _run_ this tutorial and experiment with the code examples in a couple of ways: *using free online resources* (recommended) or *on your computer*.\n",
    "\n",
    "#### Option 1: Running using free online resources (1-click, recommended)\n",
    "\n",
    "The easiest way to start executing the code is to click the **Run** button at the top of this page and select **Run on Binder**. You can also select \"Run on Colab\" or \"Run on Kaggle\", but you'll need to create an account on [Google Colab](https://colab.research.google.com) or [Kaggle](https://kaggle.com) to use these platforms.\n",
    "\n",
    "\n",
    "#### Option 2: Running on your computer locally\n",
    "\n",
    "To run the code on your computer locally, you'll need to set up [Python](https://www.python.org), download the notebook and install the required libraries. We recommend using the [Conda](https://docs.conda.io/projects/conda/en/latest/user-guide/install/) distribution of Python. Click the **Run** button at the top of this page, select the **Run Locally** option, and follow the instructions.\n",
    "\n",
    ">  **Jupyter Notebooks**: This tutorial is a [Jupyter notebook](https://jupyter.org) - a document made of _cells_. Each cell can contain code written in Python or explanations in plain English. You can execute code cells and view the results, e.g., numbers, messages, graphs, tables, files, etc. instantly within the notebook. Jupyter is a powerful platform for experimentation and analysis. Don't be afraid to mess around with the code & break things - you'll learn a lot by encountering and fixing errors. You can use the \"Kernel > Restart & Clear Output\" menu option to clear all outputs and start again from the top."
   ]
  },
  {
   "cell_type": "markdown",
   "metadata": {},
   "source": [
    "## Performing Arithmetic Operations using Python\n",
    "\n",
    "Let's begin by using Python as a calculator. You can write and execute Python using a code cell within Jupyter. \n",
    "\n",
    "> **Working with cells**: To create a new cell within Jupyter, you can select \"Insert > Insert Cell Below\" from the menu bar or just press the \"+\" button on the toolbar. You can also use the keyboard shortcut `Esc+B` to create a new cell. Once a cell is created, click on it to select it. You can then change the cell type to code or markdown (text) using the \"Cell > Cell Type\" menu option. You can also use the keyboard shortcuts `Esc+Y` and `Esc+M`. Double-click a cell to edit the content within the cell. To apply your changes and run a cell, use the \"Cell > Run Cells\" menu option or click the \"Run\" button on the toolbar or just use the keyboard shortcut `Shift+Enter`. You can see a full list of keyboard shortcuts using the \"Help > Keyboard Shortcuts\" menu option.\n",
    "\n",
    "Run the code cells below to perform calculations and view their result. Try changing the numbers and run the modified cells again to see updated results. Can you guess what the `//`, `%`, and `**` operators are used for?"
   ]
  },
  {
   "cell_type": "code",
   "execution_count": 14,
   "metadata": {},
   "outputs": [
    {
     "data": {
      "text/plain": [
       "14"
      ]
     },
     "execution_count": 14,
     "metadata": {},
     "output_type": "execute_result"
    }
   ],
   "source": [
    "2 + 3 + 9"
   ]
  },
  {
   "cell_type": "code",
   "execution_count": null,
   "metadata": {},
   "outputs": [],
   "source": [
    "99 - 73"
   ]
  },
  {
   "cell_type": "code",
   "execution_count": null,
   "metadata": {
    "scrolled": true
   },
   "outputs": [],
   "source": [
    "23.54 * -1432"
   ]
  },
  {
   "cell_type": "code",
   "execution_count": null,
   "metadata": {},
   "outputs": [],
   "source": [
    "100 / 7"
   ]
  },
  {
   "cell_type": "code",
   "execution_count": null,
   "metadata": {},
   "outputs": [],
   "source": [
    "100 // 7"
   ]
  },
  {
   "cell_type": "code",
   "execution_count": null,
   "metadata": {},
   "outputs": [],
   "source": [
    "100 % 7"
   ]
  },
  {
   "cell_type": "code",
   "execution_count": null,
   "metadata": {},
   "outputs": [],
   "source": [
    "5 ** 3"
   ]
  },
  {
   "cell_type": "markdown",
   "metadata": {},
   "source": [
    "As you might expect, operators like `/` and `*` take precedence over other operators like `+` and `-` as per mathematical conventions. You can use parentheses, i.e. `(` and `)`, to specify the order in which operations are performed."
   ]
  },
  {
   "cell_type": "code",
   "execution_count": null,
   "metadata": {},
   "outputs": [],
   "source": [
    "((2 + 5) * (17 - 3)) / (4 ** 3)"
   ]
  },
  {
   "cell_type": "markdown",
   "metadata": {},
   "source": [
    "Python supports the following arithmetic operators:\n",
    "\n",
    "| Operator   | Purpose           | Example     | Result    |\n",
    "|------------|-------------------|-------------|-----------|\n",
    "| `+`        | Addition          | `2 + 3`     | `5`       |\n",
    "| `-`        | Subtraction       | `3 - 2`     | `1`       |\n",
    "| `*`        | Multiplication    | `8 * 12`    | `96`      |\n",
    "| `/`        | Division          | `100 / 7`   | `14.28..` |\n",
    "| `//`       | Floor Division    | `100 // 7`  | `14`      |    \n",
    "| `%`        | Modulus/Remainder | `100 % 7`   | `2`       |\n",
    "| `**`       | Exponent          | `5 ** 3`    | `125`     |\n",
    "\n",
    "\n",
    "Try solving some simple problems from this page:\n",
    "https://www.math-only-math.com/worksheet-on-word-problems-on-four-operations.html . \n",
    "\n",
    "You can use the empty cells below and add more cells if required."
   ]
  },
  {
   "cell_type": "code",
   "execution_count": null,
   "metadata": {},
   "outputs": [],
   "source": []
  },
  {
   "cell_type": "code",
   "execution_count": null,
   "metadata": {},
   "outputs": [],
   "source": []
  },
  {
   "cell_type": "code",
   "execution_count": null,
   "metadata": {},
   "outputs": [],
   "source": []
  },
  {
   "cell_type": "code",
   "execution_count": null,
   "metadata": {},
   "outputs": [],
   "source": []
  },
  {
   "cell_type": "markdown",
   "metadata": {},
   "source": [
    "## Solving multi-step problems using variables\n",
    "\n",
    "Let's try solving the following word problem using Python: \n",
    "\n",
    "> A grocery store sells a bag of ice for $1.25 and makes a 20% profit. If it sells 500 bags of ice, how much total profit does it make?\n",
    "\n",
    "We can list out the information provided and gradually convert the word problem into a mathematical expression that can be evaluated using Python. \n",
    "\n",
    "*Cost of ice bag ($)* = 1.25\n",
    "\n",
    "*Profit margin* = 20% = .2\n",
    "\n",
    "*Profit per bag ($)* = profit margin * cost of ice bag = .2 * 1.25\n",
    "\n",
    "*No. of bags* = 500\n",
    "\n",
    "*Total profit* = no. of bags * profit per bag = 500 * (.2 * 1.25)"
   ]
  },
  {
   "cell_type": "code",
   "execution_count": null,
   "metadata": {},
   "outputs": [],
   "source": [
    "500 * (.2 * 1.25)"
   ]
  },
  {
   "cell_type": "markdown",
   "metadata": {},
   "source": [
    "Thus, the grocery store makes a total profit of $125. While this is a reasonable way to solve a problem, it's not entirely clear by looking at the code cell what the numbers represent. We can give names to each of the numbers by creating Python *variables*.\n",
    "\n",
    "> **Variables**: While working with a programming language such as Python, information is stored in *variables*. You can think of variables as containers for storing data. The data stored within a variable is called its *value*."
   ]
  },
  {
   "cell_type": "code",
   "execution_count": null,
   "metadata": {},
   "outputs": [],
   "source": [
    "cost_of_ice_bag = 1.25"
   ]
  },
  {
   "cell_type": "code",
   "execution_count": null,
   "metadata": {},
   "outputs": [],
   "source": [
    "profit_margin = .2"
   ]
  },
  {
   "cell_type": "code",
   "execution_count": null,
   "metadata": {},
   "outputs": [],
   "source": [
    "number_of_bags = 500"
   ]
  },
  {
   "cell_type": "markdown",
   "metadata": {},
   "source": [
    "The variables `cost_of_ice_bag`, `profit_margin`, and `number_of_bags` now contain the information provided in the word problem. We can check the value of a variable by typing its name into a cell. We can combine variables using arithmetic operations to create other variables.\n",
    "\n",
    "> **Code completion**: While typing the name of an existing variable in a code cell within Jupyter, just type the first few characters and press the `Tab` key to autocomplete the variable's name. Try typing `pro` in a code cell below and press `Tab` to autocomplete to `profit_margin`."
   ]
  },
  {
   "cell_type": "code",
   "execution_count": null,
   "metadata": {},
   "outputs": [],
   "source": [
    "profit_margin"
   ]
  },
  {
   "cell_type": "code",
   "execution_count": null,
   "metadata": {},
   "outputs": [],
   "source": [
    "profit_per_bag = cost_of_ice_bag * profit_margin"
   ]
  },
  {
   "cell_type": "code",
   "execution_count": null,
   "metadata": {},
   "outputs": [],
   "source": [
    "profit_per_bag"
   ]
  },
  {
   "cell_type": "code",
   "execution_count": null,
   "metadata": {},
   "outputs": [],
   "source": [
    "total_profit = number_of_bags * profit_per_bag"
   ]
  },
  {
   "cell_type": "code",
   "execution_count": null,
   "metadata": {},
   "outputs": [],
   "source": [
    "total_profit"
   ]
  },
  {
   "cell_type": "markdown",
   "metadata": {},
   "source": [
    "If you try to view the value of a variable that has not been *defined*, i.e., given a value using the assignment statement `variable_name = value`, Python shows an error."
   ]
  },
  {
   "cell_type": "code",
   "execution_count": null,
   "metadata": {},
   "outputs": [],
   "source": [
    "net_profit"
   ]
  },
  {
   "cell_type": "markdown",
   "metadata": {},
   "source": [
    "Storing and manipulating data using appropriately named variables is a great way to explain what your code does.\n",
    "\n",
    "Let's display the result of the word problem using a friendly message. We can do this using the `print` *function*.\n",
    "\n",
    "> **Functions**: A function is a reusable set of instructions. It takes one or more inputs, performs certain operations, and often returns an output. Python provides many in-built functions like `print` and also allows us to define our own functions."
   ]
  },
  {
   "cell_type": "code",
   "execution_count": null,
   "metadata": {},
   "outputs": [],
   "source": [
    "print(\"The grocery store makes a total profit of $\", total_profit)"
   ]
  },
  {
   "cell_type": "markdown",
   "metadata": {},
   "source": [
    "> **`print`**: The `print` function is used to display information. It takes one or more inputs, which can be text (within quotes, e.g., `\"this is some text\"`), numbers, variables, mathematical expressions, etc. We'll learn more about variables & functions in the next tutorial.\n",
    "\n",
    "Creating a code cell for each variable or mathematical operation can get tedious. Fortunately, Jupyter allows you to write multiple lines of code within a single code cell. The result of the last line of code within the cell is displayed as the output. \n",
    "\n",
    "Let's rewrite the solution to our word problem within a single cell."
   ]
  },
  {
   "cell_type": "code",
   "execution_count": null,
   "metadata": {},
   "outputs": [],
   "source": [
    "# Store input data in variables\n",
    "cost_of_ice_bag = 1.25\n",
    "profit_margin = .2\n",
    "number_of_bags = 500\n",
    "\n",
    "# Perform the required calculations\n",
    "profit_per_bag = cost_of_ice_bag * profit_margin\n",
    "total_profit = number_of_bags * profit_per_bag\n",
    "\n",
    "# Display the result\n",
    "print(\"The grocery store makes a total profit of $\", total_profit)"
   ]
  },
  {
   "cell_type": "markdown",
   "metadata": {},
   "source": [
    "Note that we're using the `#` character to add *comments* within our code. \n",
    "\n",
    "> **Comments**: Comments and blank lines are ignored during execution, but they are useful for providing information to humans (including yourself) about what the code does. Comments can be inline (at the end of some code), on a separate line, or even span multiple lines. \n",
    "\n",
    "Inline and single-line comments start with `#`, whereas multi-line comments begin and end with three quotes, i.e. `\"\"\"`. Here are some examples of code comments:"
   ]
  },
  {
   "cell_type": "code",
   "execution_count": null,
   "metadata": {},
   "outputs": [],
   "source": [
    "my_favorite_number = 1 # an inline comment"
   ]
  },
  {
   "cell_type": "code",
   "execution_count": null,
   "metadata": {},
   "outputs": [],
   "source": [
    "# This comment gets its own line\n",
    "my_least_favorite_number = 3"
   ]
  },
  {
   "cell_type": "code",
   "execution_count": null,
   "metadata": {},
   "outputs": [],
   "source": [
    "\"\"\"This is a multi-line comment.\n",
    "Write as little or as much as you'd like.\n",
    "\n",
    "Comments are really helpful for people reading\n",
    "your code, but try to keep them short & to-the-point.\n",
    "\n",
    "Also, if you use good variable names, then your code is\n",
    "often self explanatory, and you may not even need comments!\n",
    "\"\"\"\n",
    "a_neutral_number = 5"
   ]
  },
  {
   "cell_type": "markdown",
   "metadata": {},
   "source": [
    "## Evaluating conditions using Python\n",
    "\n",
    "Apart from arithmetic operations, Python also provides several operations for comparing numbers & variables.\n",
    "\n",
    "| Operator    | Description                                                     |\n",
    "|-------------|-----------------------------------------------------------------|\n",
    "| `==`        | Check if operands are equal                                     |\n",
    "| `!=`        | Check if operands are not equal                                 |\n",
    "| `>`         | Check if left operand is greater than right operand             |\n",
    "| `<`         | Check if left operand is less than right operand                |\n",
    "| `>=`        | Check if left operand is greater than or equal to right operand |\n",
    "| `<=`        | Check if left operand is less than or equal to right operand    |\n",
    "\n",
    "The result of a comparison operation is either `True` or `False` (note the uppercase `T` and `F`). These are special keywords in Python. Let's try out some experiments with comparison operators."
   ]
  },
  {
   "cell_type": "code",
   "execution_count": null,
   "metadata": {},
   "outputs": [],
   "source": [
    "my_favorite_number = 1\n",
    "my_least_favorite_number = 5\n",
    "a_neutral_number = 3"
   ]
  },
  {
   "cell_type": "code",
   "execution_count": null,
   "metadata": {},
   "outputs": [],
   "source": [
    "# Equality check - True\n",
    "my_favorite_number == 1"
   ]
  },
  {
   "cell_type": "code",
   "execution_count": null,
   "metadata": {},
   "outputs": [],
   "source": [
    "# Equality check - False\n",
    "my_favorite_number == my_least_favorite_number"
   ]
  },
  {
   "cell_type": "code",
   "execution_count": null,
   "metadata": {},
   "outputs": [],
   "source": [
    "# Not equal check - True\n",
    "my_favorite_number != a_neutral_number"
   ]
  },
  {
   "cell_type": "code",
   "execution_count": null,
   "metadata": {},
   "outputs": [],
   "source": [
    "# Not equal check - False\n",
    "a_neutral_number != 3"
   ]
  },
  {
   "cell_type": "code",
   "execution_count": null,
   "metadata": {},
   "outputs": [],
   "source": [
    "# Greater than check - True\n",
    "my_least_favorite_number > a_neutral_number"
   ]
  },
  {
   "cell_type": "code",
   "execution_count": null,
   "metadata": {},
   "outputs": [],
   "source": [
    "# Greater than check - False\n",
    "my_favorite_number > my_least_favorite_number"
   ]
  },
  {
   "cell_type": "code",
   "execution_count": null,
   "metadata": {},
   "outputs": [],
   "source": [
    "# Less than check - True\n",
    "my_favorite_number < 10"
   ]
  },
  {
   "cell_type": "code",
   "execution_count": null,
   "metadata": {},
   "outputs": [],
   "source": [
    "# Less than check - False\n",
    "my_least_favorite_number < my_favorite_number"
   ]
  },
  {
   "cell_type": "code",
   "execution_count": null,
   "metadata": {},
   "outputs": [],
   "source": [
    "# Greater than or equal check - True\n",
    "my_favorite_number >= 1"
   ]
  },
  {
   "cell_type": "code",
   "execution_count": null,
   "metadata": {},
   "outputs": [],
   "source": [
    "# Greater than or equal check - False\n",
    "my_favorite_number >= 3"
   ]
  },
  {
   "cell_type": "code",
   "execution_count": null,
   "metadata": {},
   "outputs": [],
   "source": [
    "# Less than or equal check - True\n",
    "3 + 6 <= 9"
   ]
  },
  {
   "cell_type": "code",
   "execution_count": null,
   "metadata": {},
   "outputs": [],
   "source": [
    "# Less than or equal check - False\n",
    "my_favorite_number + a_neutral_number <= 3"
   ]
  },
  {
   "cell_type": "markdown",
   "metadata": {},
   "source": [
    "Just like arithmetic operations, the result of a comparison operation can also be stored in a variable."
   ]
  },
  {
   "cell_type": "code",
   "execution_count": null,
   "metadata": {},
   "outputs": [],
   "source": [
    "cost_of_ice_bag = 1.25\n",
    "is_ice_bag_expensive = cost_of_ice_bag >= 10\n",
    "print(\"Is the ice bag expensive?\", is_ice_bag_expensive)"
   ]
  },
  {
   "cell_type": "markdown",
   "metadata": {},
   "source": [
    "## Combining conditions with logical operators\n",
    "\n",
    "The logical operators `and`, `or` and `not` operate upon conditions and `True` & `False` values (also known as *booleans*). `and` and `or` operate on two conditions, whereas `not` operates on a single condition.\n",
    "\n",
    "The `and` operator returns `True` when both the conditions evaluate to `True`. Otherwise, it returns `False`.\n",
    "\n",
    "| `a`     | `b`    | `a and b` |\n",
    "|---------|--------|-----------|\n",
    "|  `True` | `True` | `True`    |\n",
    "|  `True` | `False`| `False`   |\n",
    "|  `False`| `True` | `False`   |\n",
    "|  `False`| `False`| `False`   |\n"
   ]
  },
  {
   "cell_type": "code",
   "execution_count": null,
   "metadata": {
    "scrolled": true
   },
   "outputs": [],
   "source": [
    "my_favorite_number"
   ]
  },
  {
   "cell_type": "code",
   "execution_count": null,
   "metadata": {},
   "outputs": [],
   "source": [
    "my_favorite_number > 0 and my_favorite_number <= 3"
   ]
  },
  {
   "cell_type": "code",
   "execution_count": null,
   "metadata": {},
   "outputs": [],
   "source": [
    "my_favorite_number < 0 and my_favorite_number <= 3"
   ]
  },
  {
   "cell_type": "code",
   "execution_count": null,
   "metadata": {},
   "outputs": [],
   "source": [
    "my_favorite_number > 0 and my_favorite_number >= 3"
   ]
  },
  {
   "cell_type": "code",
   "execution_count": null,
   "metadata": {},
   "outputs": [],
   "source": [
    "True and False"
   ]
  },
  {
   "cell_type": "code",
   "execution_count": null,
   "metadata": {},
   "outputs": [],
   "source": [
    "True and True"
   ]
  },
  {
   "cell_type": "markdown",
   "metadata": {},
   "source": [
    "The `or` operator returns `True` if at least one of the conditions evaluates to `True`. It returns `False` only if both conditions are `False`.\n",
    "\n",
    "| `a`     | `b`    | `a or b`  |\n",
    "|---------|--------|-----------|\n",
    "|  `True` | `True` | `True`    |\n",
    "|  `True` | `False`| `True`    |\n",
    "|  `False`| `True` | `True`    |\n",
    "|  `False`| `False`| `False`   |\n",
    "\n"
   ]
  },
  {
   "cell_type": "code",
   "execution_count": null,
   "metadata": {},
   "outputs": [],
   "source": [
    "a_neutral_number = 3"
   ]
  },
  {
   "cell_type": "code",
   "execution_count": null,
   "metadata": {},
   "outputs": [],
   "source": [
    "a_neutral_number == 3 or my_favorite_number < 0"
   ]
  },
  {
   "cell_type": "code",
   "execution_count": null,
   "metadata": {},
   "outputs": [],
   "source": [
    "a_neutral_number != 3 or my_favorite_number < 0"
   ]
  },
  {
   "cell_type": "code",
   "execution_count": null,
   "metadata": {},
   "outputs": [],
   "source": [
    "my_favorite_number < 0 or True"
   ]
  },
  {
   "cell_type": "code",
   "execution_count": null,
   "metadata": {},
   "outputs": [],
   "source": [
    "False or False"
   ]
  },
  {
   "cell_type": "markdown",
   "metadata": {},
   "source": [
    "The `not` operator returns `False` if a condition is `True` and `True` if the condition is `False`."
   ]
  },
  {
   "cell_type": "code",
   "execution_count": null,
   "metadata": {},
   "outputs": [],
   "source": [
    "not a_neutral_number == 3"
   ]
  },
  {
   "cell_type": "code",
   "execution_count": null,
   "metadata": {},
   "outputs": [],
   "source": [
    "not my_favorite_number < 0"
   ]
  },
  {
   "cell_type": "code",
   "execution_count": null,
   "metadata": {},
   "outputs": [],
   "source": [
    "not False"
   ]
  },
  {
   "cell_type": "code",
   "execution_count": null,
   "metadata": {},
   "outputs": [],
   "source": [
    "not True"
   ]
  },
  {
   "cell_type": "markdown",
   "metadata": {},
   "source": [
    "Logical operators can be combined to form complex conditions. Use round brackets or parentheses `(` and `)` to indicate the order in which logical operators should be applied."
   ]
  },
  {
   "cell_type": "code",
   "execution_count": null,
   "metadata": {},
   "outputs": [],
   "source": [
    "(2 > 3 and 4 <= 5) or not (my_favorite_number < 0 and True)"
   ]
  },
  {
   "cell_type": "code",
   "execution_count": null,
   "metadata": {},
   "outputs": [],
   "source": [
    "not (True and 0 < 1) or (False and True)"
   ]
  },
  {
   "cell_type": "markdown",
   "metadata": {},
   "source": [
    "If parentheses are not used, logical operators are applied from left to right."
   ]
  },
  {
   "cell_type": "code",
   "execution_count": null,
   "metadata": {},
   "outputs": [],
   "source": [
    "not True and 0 < 1 or False and True"
   ]
  },
  {
   "cell_type": "markdown",
   "metadata": {},
   "source": [
    "Quick introduction to if else using logical operators (more in depth next workshop)"
   ]
  },
  {
   "cell_type": "code",
   "execution_count": 7,
   "metadata": {},
   "outputs": [
    {
     "name": "stdout",
     "output_type": "stream",
     "text": [
      "False\n"
     ]
    }
   ],
   "source": [
    "if (True and False):\n",
    "    print(True)\n",
    "else:\n",
    "    print(False)"
   ]
  },
  {
   "cell_type": "code",
   "execution_count": null,
   "metadata": {},
   "outputs": [],
   "source": [
    "if (True and True):\n",
    "    print(True)\n",
    "else:\n",
    "    print(False)"
   ]
  },
  {
   "cell_type": "code",
   "execution_count": null,
   "metadata": {},
   "outputs": [],
   "source": [
    "if (True):\n",
    "    print(True)\n",
    "else:\n",
    "    print(False)"
   ]
  },
  {
   "cell_type": "markdown",
   "metadata": {},
   "source": [
    "Experiment with arithmetic, conditional and logical operators in Python using the interactive nature of Jupyter notebooks. We will learn more about variables and functions in future tutorials."
   ]
  },
  {
   "cell_type": "markdown",
   "metadata": {},
   "source": [
    "## Turtle graphics to apply what we learned\n",
    "\n",
    "* Run the line help(turtle)\n",
    "* Discuss the use of methods, arithmetic in the context of a program\n",
    "* Play around with methods and see how conditionals and integers can manipulated to make turtles do different things!\n",
    "* Use conditionals to draw shapes and swap between colors\n",
    "\n"
   ]
  },
  {
   "cell_type": "code",
   "execution_count": 1,
   "metadata": {},
   "outputs": [
    {
     "name": "stdout",
     "output_type": "stream",
     "text": [
      "Collecting mobilechelonian\n",
      "  Using cached mobilechelonian-0.5-py2.py3-none-any.whl (94 kB)\n",
      "Requirement already satisfied: ipywidgets>=7.0.0 in /srv/conda/envs/notebook/lib/python3.7/site-packages (from mobilechelonian) (7.6.3)\n",
      "Requirement already satisfied: IPython in /srv/conda/envs/notebook/lib/python3.7/site-packages (from mobilechelonian) (7.20.0)\n",
      "Requirement already satisfied: nbformat>=4.2.0 in /srv/conda/envs/notebook/lib/python3.7/site-packages (from ipywidgets>=7.0.0->mobilechelonian) (5.1.2)\n",
      "Requirement already satisfied: jupyterlab-widgets>=1.0.0 in /srv/conda/envs/notebook/lib/python3.7/site-packages (from ipywidgets>=7.0.0->mobilechelonian) (1.0.0)\n",
      "Requirement already satisfied: traitlets>=4.3.1 in /srv/conda/envs/notebook/lib/python3.7/site-packages (from ipywidgets>=7.0.0->mobilechelonian) (5.0.5)\n",
      "Requirement already satisfied: ipykernel>=4.5.1 in /srv/conda/envs/notebook/lib/python3.7/site-packages (from ipywidgets>=7.0.0->mobilechelonian) (5.5.0)\n",
      "Requirement already satisfied: widgetsnbextension~=3.5.0 in /srv/conda/envs/notebook/lib/python3.7/site-packages (from ipywidgets>=7.0.0->mobilechelonian) (3.5.1)\n",
      "Requirement already satisfied: jupyter-client in /srv/conda/envs/notebook/lib/python3.7/site-packages (from ipykernel>=4.5.1->ipywidgets>=7.0.0->mobilechelonian) (6.1.11)\n",
      "Requirement already satisfied: tornado>=4.2 in /srv/conda/envs/notebook/lib/python3.7/site-packages (from ipykernel>=4.5.1->ipywidgets>=7.0.0->mobilechelonian) (6.1)\n",
      "Requirement already satisfied: decorator in /srv/conda/envs/notebook/lib/python3.7/site-packages (from IPython->mobilechelonian) (4.4.2)\n",
      "Requirement already satisfied: pickleshare in /srv/conda/envs/notebook/lib/python3.7/site-packages (from IPython->mobilechelonian) (0.7.5)\n",
      "Requirement already satisfied: prompt-toolkit!=3.0.0,!=3.0.1,<3.1.0,>=2.0.0 in /srv/conda/envs/notebook/lib/python3.7/site-packages (from IPython->mobilechelonian) (3.0.16)\n",
      "Requirement already satisfied: setuptools>=18.5 in /srv/conda/envs/notebook/lib/python3.7/site-packages (from IPython->mobilechelonian) (49.6.0.post20210108)\n",
      "Requirement already satisfied: jedi>=0.16 in /srv/conda/envs/notebook/lib/python3.7/site-packages (from IPython->mobilechelonian) (0.18.0)\n",
      "Requirement already satisfied: pygments in /srv/conda/envs/notebook/lib/python3.7/site-packages (from IPython->mobilechelonian) (2.8.0)\n",
      "Requirement already satisfied: pexpect>4.3 in /srv/conda/envs/notebook/lib/python3.7/site-packages (from IPython->mobilechelonian) (4.8.0)\n",
      "Requirement already satisfied: backcall in /srv/conda/envs/notebook/lib/python3.7/site-packages (from IPython->mobilechelonian) (0.2.0)\n",
      "Requirement already satisfied: parso<0.9.0,>=0.8.0 in /srv/conda/envs/notebook/lib/python3.7/site-packages (from jedi>=0.16->IPython->mobilechelonian) (0.8.1)\n",
      "Requirement already satisfied: ipython-genutils in /srv/conda/envs/notebook/lib/python3.7/site-packages (from nbformat>=4.2.0->ipywidgets>=7.0.0->mobilechelonian) (0.2.0)\n",
      "Requirement already satisfied: jsonschema!=2.5.0,>=2.4 in /srv/conda/envs/notebook/lib/python3.7/site-packages (from nbformat>=4.2.0->ipywidgets>=7.0.0->mobilechelonian) (3.2.0)\n",
      "Requirement already satisfied: jupyter-core in /srv/conda/envs/notebook/lib/python3.7/site-packages (from nbformat>=4.2.0->ipywidgets>=7.0.0->mobilechelonian) (4.7.1)\n",
      "Requirement already satisfied: pyrsistent>=0.14.0 in /srv/conda/envs/notebook/lib/python3.7/site-packages (from jsonschema!=2.5.0,>=2.4->nbformat>=4.2.0->ipywidgets>=7.0.0->mobilechelonian) (0.17.3)\n",
      "Requirement already satisfied: attrs>=17.4.0 in /srv/conda/envs/notebook/lib/python3.7/site-packages (from jsonschema!=2.5.0,>=2.4->nbformat>=4.2.0->ipywidgets>=7.0.0->mobilechelonian) (20.3.0)\n",
      "Requirement already satisfied: six>=1.11.0 in /srv/conda/envs/notebook/lib/python3.7/site-packages (from jsonschema!=2.5.0,>=2.4->nbformat>=4.2.0->ipywidgets>=7.0.0->mobilechelonian) (1.15.0)\n",
      "Requirement already satisfied: importlib-metadata in /srv/conda/envs/notebook/lib/python3.7/site-packages (from jsonschema!=2.5.0,>=2.4->nbformat>=4.2.0->ipywidgets>=7.0.0->mobilechelonian) (3.4.0)\n",
      "Requirement already satisfied: ptyprocess>=0.5 in /srv/conda/envs/notebook/lib/python3.7/site-packages (from pexpect>4.3->IPython->mobilechelonian) (0.7.0)\n",
      "Requirement already satisfied: wcwidth in /srv/conda/envs/notebook/lib/python3.7/site-packages (from prompt-toolkit!=3.0.0,!=3.0.1,<3.1.0,>=2.0.0->IPython->mobilechelonian) (0.2.5)\n",
      "Requirement already satisfied: notebook>=4.4.1 in /srv/conda/envs/notebook/lib/python3.7/site-packages (from widgetsnbextension~=3.5.0->ipywidgets>=7.0.0->mobilechelonian) (6.2.0)\n",
      "Requirement already satisfied: pyzmq>=17 in /srv/conda/envs/notebook/lib/python3.7/site-packages (from notebook>=4.4.1->widgetsnbextension~=3.5.0->ipywidgets>=7.0.0->mobilechelonian) (22.0.3)\n",
      "Requirement already satisfied: terminado>=0.8.3 in /srv/conda/envs/notebook/lib/python3.7/site-packages (from notebook>=4.4.1->widgetsnbextension~=3.5.0->ipywidgets>=7.0.0->mobilechelonian) (0.9.2)\n",
      "Requirement already satisfied: prometheus-client in /srv/conda/envs/notebook/lib/python3.7/site-packages (from notebook>=4.4.1->widgetsnbextension~=3.5.0->ipywidgets>=7.0.0->mobilechelonian) (0.9.0)\n",
      "Requirement already satisfied: nbconvert in /srv/conda/envs/notebook/lib/python3.7/site-packages (from notebook>=4.4.1->widgetsnbextension~=3.5.0->ipywidgets>=7.0.0->mobilechelonian) (6.0.7)\n",
      "Requirement already satisfied: Send2Trash>=1.5.0 in /srv/conda/envs/notebook/lib/python3.7/site-packages (from notebook>=4.4.1->widgetsnbextension~=3.5.0->ipywidgets>=7.0.0->mobilechelonian) (1.5.0)\n",
      "Requirement already satisfied: argon2-cffi in /srv/conda/envs/notebook/lib/python3.7/site-packages (from notebook>=4.4.1->widgetsnbextension~=3.5.0->ipywidgets>=7.0.0->mobilechelonian) (20.1.0)\n",
      "Requirement already satisfied: jinja2 in /srv/conda/envs/notebook/lib/python3.7/site-packages (from notebook>=4.4.1->widgetsnbextension~=3.5.0->ipywidgets>=7.0.0->mobilechelonian) (2.11.3)\n",
      "Requirement already satisfied: python-dateutil>=2.1 in /srv/conda/envs/notebook/lib/python3.7/site-packages (from jupyter-client->ipykernel>=4.5.1->ipywidgets>=7.0.0->mobilechelonian) (2.8.1)\n",
      "Requirement already satisfied: cffi>=1.0.0 in /srv/conda/envs/notebook/lib/python3.7/site-packages (from argon2-cffi->notebook>=4.4.1->widgetsnbextension~=3.5.0->ipywidgets>=7.0.0->mobilechelonian) (1.14.5)\n",
      "Requirement already satisfied: pycparser in /srv/conda/envs/notebook/lib/python3.7/site-packages (from cffi>=1.0.0->argon2-cffi->notebook>=4.4.1->widgetsnbextension~=3.5.0->ipywidgets>=7.0.0->mobilechelonian) (2.20)\n",
      "Requirement already satisfied: zipp>=0.5 in /srv/conda/envs/notebook/lib/python3.7/site-packages (from importlib-metadata->jsonschema!=2.5.0,>=2.4->nbformat>=4.2.0->ipywidgets>=7.0.0->mobilechelonian) (3.4.0)\n",
      "Requirement already satisfied: typing-extensions>=3.6.4 in /srv/conda/envs/notebook/lib/python3.7/site-packages (from importlib-metadata->jsonschema!=2.5.0,>=2.4->nbformat>=4.2.0->ipywidgets>=7.0.0->mobilechelonian) (3.7.4.3)\n",
      "Requirement already satisfied: MarkupSafe>=0.23 in /srv/conda/envs/notebook/lib/python3.7/site-packages (from jinja2->notebook>=4.4.1->widgetsnbextension~=3.5.0->ipywidgets>=7.0.0->mobilechelonian) (1.1.1)\n",
      "Requirement already satisfied: entrypoints>=0.2.2 in /srv/conda/envs/notebook/lib/python3.7/site-packages (from nbconvert->notebook>=4.4.1->widgetsnbextension~=3.5.0->ipywidgets>=7.0.0->mobilechelonian) (0.3)\n",
      "Requirement already satisfied: bleach in /srv/conda/envs/notebook/lib/python3.7/site-packages (from nbconvert->notebook>=4.4.1->widgetsnbextension~=3.5.0->ipywidgets>=7.0.0->mobilechelonian) (3.3.0)\n",
      "Requirement already satisfied: jupyterlab-pygments in /srv/conda/envs/notebook/lib/python3.7/site-packages (from nbconvert->notebook>=4.4.1->widgetsnbextension~=3.5.0->ipywidgets>=7.0.0->mobilechelonian) (0.1.2)\n",
      "Requirement already satisfied: defusedxml in /srv/conda/envs/notebook/lib/python3.7/site-packages (from nbconvert->notebook>=4.4.1->widgetsnbextension~=3.5.0->ipywidgets>=7.0.0->mobilechelonian) (0.6.0)\n",
      "Requirement already satisfied: pandocfilters>=1.4.1 in /srv/conda/envs/notebook/lib/python3.7/site-packages (from nbconvert->notebook>=4.4.1->widgetsnbextension~=3.5.0->ipywidgets>=7.0.0->mobilechelonian) (1.4.2)\n",
      "Requirement already satisfied: testpath in /srv/conda/envs/notebook/lib/python3.7/site-packages (from nbconvert->notebook>=4.4.1->widgetsnbextension~=3.5.0->ipywidgets>=7.0.0->mobilechelonian) (0.4.4)\n",
      "Requirement already satisfied: mistune<2,>=0.8.1 in /srv/conda/envs/notebook/lib/python3.7/site-packages (from nbconvert->notebook>=4.4.1->widgetsnbextension~=3.5.0->ipywidgets>=7.0.0->mobilechelonian) (0.8.4)\n",
      "Requirement already satisfied: nbclient<0.6.0,>=0.5.0 in /srv/conda/envs/notebook/lib/python3.7/site-packages (from nbconvert->notebook>=4.4.1->widgetsnbextension~=3.5.0->ipywidgets>=7.0.0->mobilechelonian) (0.5.2)\n"
     ]
    },
    {
     "name": "stdout",
     "output_type": "stream",
     "text": [
      "Requirement already satisfied: async-generator in /srv/conda/envs/notebook/lib/python3.7/site-packages (from nbclient<0.6.0,>=0.5.0->nbconvert->notebook>=4.4.1->widgetsnbextension~=3.5.0->ipywidgets>=7.0.0->mobilechelonian) (1.10)\n",
      "Requirement already satisfied: nest-asyncio in /srv/conda/envs/notebook/lib/python3.7/site-packages (from nbclient<0.6.0,>=0.5.0->nbconvert->notebook>=4.4.1->widgetsnbextension~=3.5.0->ipywidgets>=7.0.0->mobilechelonian) (1.4.3)\n",
      "Requirement already satisfied: packaging in /srv/conda/envs/notebook/lib/python3.7/site-packages (from bleach->nbconvert->notebook>=4.4.1->widgetsnbextension~=3.5.0->ipywidgets>=7.0.0->mobilechelonian) (20.9)\n",
      "Requirement already satisfied: webencodings in /srv/conda/envs/notebook/lib/python3.7/site-packages (from bleach->nbconvert->notebook>=4.4.1->widgetsnbextension~=3.5.0->ipywidgets>=7.0.0->mobilechelonian) (0.5.1)\n",
      "Requirement already satisfied: pyparsing>=2.0.2 in /srv/conda/envs/notebook/lib/python3.7/site-packages (from packaging->bleach->nbconvert->notebook>=4.4.1->widgetsnbextension~=3.5.0->ipywidgets>=7.0.0->mobilechelonian) (2.4.7)\n",
      "Installing collected packages: mobilechelonian\n",
      "Successfully installed mobilechelonian-0.5\n"
     ]
    }
   ],
   "source": [
    "!pip install mobilechelonian"
   ]
  },
  {
   "cell_type": "code",
   "execution_count": 3,
   "metadata": {},
   "outputs": [
    {
     "data": {
      "application/vnd.jupyter.widget-view+json": {
       "model_id": "aa9353fe9d8d45758aeabc8955dad6d1",
       "version_major": 2,
       "version_minor": 0
      },
      "text/plain": [
       "Turtle()"
      ]
     },
     "metadata": {},
     "output_type": "display_data"
    }
   ],
   "source": [
    "from mobilechelonian import Turtle\n",
    "t = Turtle()\n",
    "t.forward(50)\n",
    "t.right(90)\n",
    "t.forward(50)\n",
    "t.left(90)\n",
    "t.forward(50)\n",
    "#Use help(Turtle) for all the commands"
   ]
  },
  {
   "cell_type": "code",
   "execution_count": 6,
   "metadata": {},
   "outputs": [
    {
     "data": {
      "application/vnd.jupyter.widget-view+json": {
       "model_id": "e58da5b5010c4993b4a16a064b5d12f8",
       "version_major": 2,
       "version_minor": 0
      },
      "text/plain": [
       "Turtle()"
      ]
     },
     "metadata": {},
     "output_type": "display_data"
    }
   ],
   "source": [
    "from mobilechelonian import Turtle\n",
    "t = Turtle()\n",
    "turnDegrees = 90\n",
    "t.forward(50)\n",
    "t.right(turnDegrees)\n",
    "t.forward(50)\n",
    "t.left(turnDegrees)\n",
    "t.forward(50)\n",
    "t.circle(9000/turnDegrees)\n",
    "#Use help(Turtle) for all the commands\n",
    "#try incorporating an if statement! (Don't forget the SYNTAX)"
   ]
  },
  {
   "cell_type": "markdown",
   "metadata": {},
   "source": [
    "## Further Reading and References\n",
    "\n",
    "Following are some resources where you can learn about more arithmetic, conditional and logical operations in Python:\n",
    "\n",
    "* Python Tutorial at W3Schools: https://www.w3schools.com/python/\n",
    "* Practical Python Programming: https://dabeaz-course.github.io/practical-python/Notes/Contents.html\n",
    "* Python official documentation: https://docs.python.org/3/tutorial/index.html\n",
    "\n",
    "Now that you have taken your first steps with Python, you are ready to move on to the next tutorial: [\"A Quick Tour of Variables and Data Types in Python\"](https://jovian.ml/aakashns/python-variables-and-data-types)."
   ]
  },
  {
   "cell_type": "markdown",
   "metadata": {},
   "source": [
    "## Questions for Revision\n",
    "\n",
    "Try answering the following questions to test your understanding of the topics covered in this notebook:\n",
    "\n",
    "1. What is a Jupyter notebook? \n",
    "2. How do you add a new code cell below an existing cell?\n",
    "3. How do you add a new Markdown cell below an existing cell?\n",
    "4. How do you convert a code cell to a Markdown cell or vice versa?\n",
    "5. How do you execute a code cell within Jupyter?\n",
    "6. What the different arithmetic operations supported in Python?\n",
    "7. How do you perform arithmetic operations using Python?\n",
    "8. What is the difference between the `/` and the `//` operators?\n",
    "9. What is the difference between the `*` and the `**` operators?\n",
    "10. What is the order of precedence for arithmetic operators in Python?\n",
    "11. How do you specify the order in which arithmetic operations are performed in an expression involving multiple operators?\n",
    "12. How do you solve a multi-step arithmetic word problem using Python?\n",
    "13. What are variables? Why are they useful?\n",
    "14. How do you create a variable in Python?\n",
    "15. What is the assignment operator in Python?\n",
    "16. What are the rules for naming a variable in Python?\n",
    "17. How do you view the value of a variable?\n",
    "18. How do you store the result of an arithmetic expression in a variable?\n",
    "19. What happens if you try to access a variable that has not been defined?\n",
    "20. How do you display messages in Python?\n",
    "21. What types of inputs can the print function accept?\n",
    "22. What are code comments? How are they useful?\n",
    "23. What are the different ways of creating comments in Python code?\n",
    "24. What are the different comparison operations supported in Python?\n",
    "25. What is the result of a comparison operation?\n",
    "26. What is the difference between `=` and `==` in Python?\n",
    "27. What are the logical operators supported in Python?\n",
    "28. What is the difference between the `and` and `or` operators?\n",
    "29. Can you use comparison and logical operators in the same expression?\n",
    "30. What is the purpose of using parentheses in arithmetic or logical expressions?\n",
    "31. What is Markdown? Why is it useful?\n",
    "32. How do you create headings of different sizes using Markdown?\n",
    "33. How do you create bulleted and numbered lists using Markdown?\n",
    "34. How do you create bold or italic text using Markdown?\n",
    "35. How do you include links & images within Markdown cells?\n",
    "36. How do you include code blocks within Markdown cells?\n",
    "37. Is it possible to execute the code blocks within Markdown cells?\n",
    "38. How do you upload and share your Jupyter notebook online using Jovian?\n",
    "39. What is the purpose of the API key requested by jovian.commit ? Where can you find the API key?\n",
    "40. Where can you learn about arithmetic, conditional and logical operations in Python?\n"
   ]
  }
 ],
 "metadata": {
  "kernelspec": {
   "display_name": "Python 3",
   "language": "python",
   "name": "python3"
  },
  "language_info": {
   "codemirror_mode": {
    "name": "ipython",
    "version": 3
   },
   "file_extension": ".py",
   "mimetype": "text/x-python",
   "name": "python",
   "nbconvert_exporter": "python",
   "pygments_lexer": "ipython3",
   "version": "3.7.10"
  }
 },
 "nbformat": 4,
 "nbformat_minor": 4
}
